{
 "cells": [
  {
   "cell_type": "markdown",
   "id": "fd76ff26-250b-4b98-93e5-6885f29580c6",
   "metadata": {},
   "source": [
    "# Machine Learning 2 Assignment 1"
   ]
  },
  {
   "cell_type": "markdown",
   "id": "8fb0c5c6-f1e7-4924-b302-8490df2355d0",
   "metadata": {},
   "source": [
    "## Junyoung Jung "
   ]
  },
  {
   "cell_type": "code",
   "execution_count": 1,
   "id": "b942e385-abd1-44da-b4d7-0516782afec5",
   "metadata": {},
   "outputs": [],
   "source": [
    "import numpy as np\n",
    "import torch\n",
    "from torchvision import datasets\n",
    "import torch.nn.functional as F\n",
    "import time"
   ]
  },
  {
   "cell_type": "code",
   "execution_count": 2,
   "id": "72eb8e6f-54b7-449e-afbb-21398419d379",
   "metadata": {},
   "outputs": [],
   "source": [
    "trainset = datasets.MNIST(root='./data ', train=True, download=True)\n",
    "testset = datasets.MNIST(root='./data ', train=False, download=True)"
   ]
  },
  {
   "cell_type": "code",
   "execution_count": 3,
   "id": "a9301a6e-5892-4f0e-9b83-9aa6a2bdd8ae",
   "metadata": {},
   "outputs": [],
   "source": [
    "# Indices for train /val splits : train_idx , valid_idx\n",
    "np.random.seed(0)\n",
    "val_ratio = 0.1\n",
    "train_size = len(trainset)\n",
    "indices = list(range(train_size))\n",
    "split_idx = int(np.floor(val_ratio * train_size))\n",
    "np.random.shuffle(indices)\n",
    "train_idx, val_idx = indices[split_idx:], indices[: split_idx]\n",
    "train_data = trainset.data[train_idx].float()/255.\n",
    "train_labels = trainset.targets[train_idx]\n",
    "val_data = trainset.data[val_idx].float() / 255.\n",
    "val_labels = trainset.targets[val_idx]\n",
    "test_data = testset.data.float() / 255.\n",
    "test_labels = testset.targets\n",
    "\n",
    "train_size = len(train_idx)\n",
    "val_size = len(val_idx)\n",
    "test_size = len(testset)"
   ]
  },
  {
   "cell_type": "code",
   "execution_count": 4,
   "id": "1bf20b3e-d0a4-46ec-a24c-8d5f4b239747",
   "metadata": {},
   "outputs": [],
   "source": [
    "ans_idx = 70\n",
    "\n",
    "ans_label, ans_data = train_labels[ans_idx], train_data[ans_idx]"
   ]
  },
  {
   "cell_type": "markdown",
   "id": "8eeb9fcc-c1a9-4538-b8f4-77b6366a0359",
   "metadata": {},
   "source": [
    "### (a) Implement an iterative method (using for loop) to classify a single new example. Write down your observations."
   ]
  },
  {
   "cell_type": "code",
   "execution_count": 5,
   "id": "9adc1d5c-ceba-4f5b-a27c-ba733c7fd2c9",
   "metadata": {},
   "outputs": [],
   "source": [
    "def loop_classification(datas, labels, size, ansdata):\n",
    "    distance_list = []\n",
    "    distance_idx = []\n",
    "    ansdata = torch.flatten(ansdata)\n",
    "    for i in range(size):\n",
    "        subtraction, sum_sub = 0.0, 0.0\n",
    "        data = torch.flatten(datas[i])\n",
    "        for j in range(28 * 28):\n",
    "            subtraction = data[j] - ansdata[j]\n",
    "            sum_sub += torch.abs(subtraction)\n",
    "        distance_list.append(sum_sub)\n",
    "        distance_idx.append(labels[i])\n",
    "\n",
    "    location = distance_list.index(min(distance_list))\n",
    "    result = distance_idx[location]\n",
    "\n",
    "    return result"
   ]
  },
  {
   "cell_type": "code",
   "execution_count": 6,
   "id": "427a21f6-d24a-4151-90d4-1f1794b8536d",
   "metadata": {},
   "outputs": [
    {
     "name": "stdout",
     "output_type": "stream",
     "text": [
      "-------------------------\n",
      "Loop start\n",
      "Answer data's label:  tensor(8)\n",
      "Loop classification classifies as:  tensor(8)\n",
      "Time took for Loop is:  556.4878840446472\n",
      "-------------------------\n"
     ]
    }
   ],
   "source": [
    "print(\"-------------------------\")\n",
    "print(\"Loop start\")\n",
    "start_time = time.time()\n",
    "loop_result = loop_classification(train_data, train_labels, train_size, ans_data)\n",
    "print(\"Answer data's label: \", ans_label)\n",
    "print(\"Loop classification classifies as: \", loop_result)\n",
    "print(\"Time took for Loop is: \", time.time() - start_time)\n",
    "print(\"-------------------------\")\n"
   ]
  },
  {
   "cell_type": "markdown",
   "id": "d2ea8bd5-19b1-45fb-a9ce-c5100094e2c0",
   "metadata": {},
   "source": [
    "### (b) Use the broadcasting concept you learned in the laboratory session to classify a single new example. Compare against the result from (a)."
   ]
  },
  {
   "cell_type": "code",
   "execution_count": 7,
   "id": "81a2cf31-300a-4f8a-826d-870fd90553d3",
   "metadata": {},
   "outputs": [],
   "source": [
    "def broad_classification(datas, labels, size, ansdata):\n",
    "    distance_list = []\n",
    "    distance_idx = []\n",
    "    result_idx, temp = 0, 0\n",
    "    for i in range(size):\n",
    "        result = 0.0\n",
    "        result = torch.sum((datas[i] - ansdata)**2)\n",
    "        distance_list.append(result.item())\n",
    "        distance_idx.append(labels[i])\n",
    "    temp = distance_list.index(min(distance_list))\n",
    "    result_idx = distance_idx[temp]\n",
    "\n",
    "    return result_idx.item()"
   ]
  },
  {
   "cell_type": "code",
   "execution_count": 8,
   "id": "c1c121e2-6922-4305-ba58-25faa73534dd",
   "metadata": {},
   "outputs": [
    {
     "name": "stdout",
     "output_type": "stream",
     "text": [
      "-------------------------\n",
      "Broadcasting start\n",
      "Broadcasting classification classifies as:  8\n",
      "Answer label is:  8\n",
      "Time took for Broadcasting is:  0.8361051082611084\n",
      "-------------------------\n"
     ]
    }
   ],
   "source": [
    "print(\"-------------------------\")\n",
    "print(\"Broadcasting start\")\n",
    "start_time = time.time()\n",
    "broad_result = broad_classification(train_data, train_labels, train_size, ans_data)\n",
    "print(\"Broadcasting classification classifies as: \", broad_result)\n",
    "print(\"Answer label is: \", ans_label.item())\n",
    "print(\"Time took for Broadcasting is: \", time.time() - start_time)\n",
    "print(\"-------------------------\")"
   ]
  },
  {
   "cell_type": "markdown",
   "id": "b9f11d2c-2c1a-4915-a2fa-578d9bdfc8f6",
   "metadata": {},
   "source": [
    "### (c) Now, implement a k-NN algorithm (starting with k=5) and its training/validation/evaluation code to perform multiclass classification over all digits, using the implementation from (b). Write down your observations."
   ]
  },
  {
   "cell_type": "code",
   "execution_count": 9,
   "id": "24a557ce-54e4-40db-84f6-bc479d9b0a60",
   "metadata": {},
   "outputs": [],
   "source": [
    "def knn(datas, labels, size, anydigit, k):\n",
    "    distances_tensor = torch.empty(1)\n",
    "    distances_list = []\n",
    "    distances_idx = []\n",
    "    results = []\n",
    "    for i in range(size):\n",
    "        result = torch.sum((datas[i] - anydigit) ** 2)\n",
    "        distances_list.append(result)\n",
    "        distances_idx.append(labels[i])\n",
    "    distances_tensor = torch.tensor(distances_list)\n",
    "    temp, index = torch.sort(distances_tensor)\n",
    "    index = index[:k]\n",
    "    for j in index:\n",
    "        results.append(distances_idx[j].item())\n",
    "    end, _ = torch.mode(torch.tensor(results))\n",
    "\n",
    "    return end.item()"
   ]
  },
  {
   "cell_type": "code",
   "execution_count": 14,
   "id": "112883cc-b244-4c06-a6d7-028322148e91",
   "metadata": {},
   "outputs": [
    {
     "name": "stdout",
     "output_type": "stream",
     "text": [
      "-------------------------\n",
      "KNN start\n",
      "KNN classification classifies as:  3\n",
      "Answer label is:  8\n",
      "Time took for KNN is:  0.9432189464569092\n",
      "-------------------------\n"
     ]
    }
   ],
   "source": [
    "print(\"-------------------------\")\n",
    "print(\"KNN start\")\n",
    "start_time = time.time()\n",
    "knn_result = knn(train_data, train_labels, train_size, ans_data, k=1000)\n",
    "print(\"KNN classification classifies as: \", knn_result)\n",
    "print(\"Answer label is: \", ans_label.item())\n",
    "print(\"Time took for KNN is: \", time.time() - start_time)\n",
    "print(\"-------------------------\")\n"
   ]
  },
  {
   "cell_type": "markdown",
   "id": "5cfbe4fd-08c6-4a15-abf9-b0c8bd5ab1ed",
   "metadata": {},
   "source": [
    "### (d) Improve the algorithm from (c) [Hint: Try to find the desirable distance function, which can be found by googling or going through PyTorch document]."
   ]
  },
  {
   "cell_type": "code",
   "execution_count": 26,
   "id": "4abd2a32-bb82-4406-878d-baa61d43ffe2",
   "metadata": {},
   "outputs": [],
   "source": [
    "def knn_improved(datas, labels, size, anydigit, k):\n",
    "    distances_list = []\n",
    "    distances_idx = []\n",
    "    results = []\n",
    "    for i in range(size):\n",
    "        distance = F.pairwise_distance(datas[i], anydigit, p=1)\n",
    "        distances_list.append(torch.sum(distance))\n",
    "        distances_idx.append(labels[i])\n",
    "    distances_tensor = torch.tensor(distances_list)\n",
    "    sorted_tensor, sorted_indices = torch.topk(distances_tensor, k, largest=False)\n",
    "    for j in sorted_indices:\n",
    "        results.append(distances_idx[j])\n",
    "    result, _ = torch.mode(torch.tensor(results))\n",
    "\n",
    "    return result.item()"
   ]
  },
  {
   "cell_type": "code",
   "execution_count": 27,
   "id": "177c8f66-32e6-44a9-b1e4-796941847740",
   "metadata": {},
   "outputs": [
    {
     "name": "stdout",
     "output_type": "stream",
     "text": [
      "-------------------------\n",
      "KNN improved start\n",
      "KNN classification classifies as:  8\n",
      "For test data:  8\n",
      "Answer label is:  8\n",
      "Time took for KNN is:  1.6508538722991943\n",
      "-------------------------\n"
     ]
    }
   ],
   "source": [
    "print(\"-------------------------\")\n",
    "print(\"KNN improved start\")\n",
    "start_time = time.time()\n",
    "knn_result = knn_improved(train_data, train_labels, train_size, ans_data, k=15)\n",
    "knn_result2 = knn_improved(test_data, test_labels, test_size, ans_data, k=15)\n",
    "print(\"KNN classification classifies as: \", knn_result)\n",
    "print(\"For test data: \", knn_result2)\n",
    "print(\"Answer label is: \", ans_label.item())\n",
    "print(\"Time took for KNN is: \", time.time() - start_time)\n",
    "print(\"-------------------------\")"
   ]
  },
  {
   "cell_type": "markdown",
   "id": "5092f6e9-6c3c-4146-9cf2-080b78389eff",
   "metadata": {},
   "source": []
  },
  {
   "cell_type": "code",
   "execution_count": null,
   "id": "6f8d22bd-b670-48ac-9dbf-673d539f236c",
   "metadata": {},
   "outputs": [],
   "source": []
  }
 ],
 "metadata": {
  "kernelspec": {
   "display_name": "Python 3 (ipykernel)",
   "language": "python",
   "name": "python3"
  },
  "language_info": {
   "codemirror_mode": {
    "name": "ipython",
    "version": 3
   },
   "file_extension": ".py",
   "mimetype": "text/x-python",
   "name": "python",
   "nbconvert_exporter": "python",
   "pygments_lexer": "ipython3",
   "version": "3.10.13"
  }
 },
 "nbformat": 4,
 "nbformat_minor": 5
}
